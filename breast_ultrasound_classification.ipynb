{
  "cells": [
    {
      "cell_type": "markdown",
      "id": "6eb92ff5",
      "metadata": {
        "id": "introduction"
      },
      "source": [
        "# Breast Ultrasound Image Classification\n",
        "\n",
        "This notebook implements a deep learning approach for classifying breast ultrasound images using three different models: DenseNet, ResNet, and EfficientNet."
      ]
    },
    {
      "cell_type": "markdown",
      "id": "fbd1ec27",
      "metadata": {
        "id": "setup_section"
      },
      "source": [
        "## Setup and Environment Configuration\n",
        "\n",
        "First, we'll clone the repository and set up the environment."
      ]
    },
    {
      "cell_type": "code",
      "execution_count": null,
      "id": "6946ce44",
      "metadata": {
        "id": "setup_code"
      },
      "outputs": [],
      "source": [
        "# Fix for directory access issues in Colab\n",
        "import os\n",
        "try:\n",
        "    os.getcwd()  # Test if current directory is accessible\n",
        "except:\n",
        "    # If not, change to /content which should always exist in Colab\n",
        "    print(\"Current directory is inaccessible, moving to /content...\")\n",
        "    os.chdir(\"/content\")\n",
        "\n",
        "# Clone the repository\n",
        "!git clone https://github.com/vedant7001/Breast-cancer-Ultrasound-classification.git\n",
        "%cd Breast-cancer-Ultrasound-classification\n",
        "\n",
        "# Run the setup script - this will create all needed files\n",
        "!python3 colab_setup.py\n",
        "\n",
        "# The colab_setup.py script now creates all required utility scripts directly\n",
        "# No need to explicitly run test_colab_setup.py as a separate file\n",
        "print(\"\\nSetup completed successfully!\")"
      ]
    },
    {
      "cell_type": "markdown",
      "metadata": {
        "id": "troubleshooting_colab"
      },
      "source": [
        "## Troubleshooting Google Colab Issues\n",
        "\n",
        "If you encounter directory access errors like `getcwd: cannot access parent directories`, run this code to fix it:\n",
        "\n",
        "```python\n",
        "import os\n",
        "os.chdir(\"/content\")  # Move to /content directory which always exists\n",
        "```\n",
        "\n",
        "If you see an error that Python can't open a file because it doesn't exist, make sure you're in the right directory:\n",
        "\n",
        "```python\n",
        "# Check current directory\n",
        "!pwd\n",
        "# List files in current directory\n",
        "!ls -la\n",
        "```\n",
        "\n",
        "If needed, you can recreate the required utility scripts by running the setup script again:\n",
        "\n",
        "```python\n",
        "%cd /content/Breast-cancer-Ultrasound-classification\n",
        "!python colab_setup.py\n",
        "```\n"
      ]
    },
    {
      "cell_type": "markdown",
      "id": "e13c7f25",
      "metadata": {
        "id": "dataset_section"
      },
      "source": [
        "## Download and Prepare Dataset\n",
        "\n",
        "Download the Breast Ultrasound Images (BUSI) dataset from Kaggle."
      ]
    },
    {
      "cell_type": "code",
      "execution_count": null,
      "id": "afffe83e",
      "metadata": {
        "id": "dataset_download"
      },
      "outputs": [],
      "source": [
        "# Use our dataset utility script to download and set up the dataset\n",
        "# This script is created by colab_setup.py\n",
        "!python dataset_utils.py\n",
        "\n",
        "# If that fails, try this manual method\n",
        "# Uncomment the following lines if dataset_utils.py fails\n",
        "\n",
        "# # Install kaggle API if needed\n",
        "# !pip install -q kaggle\n",
        "# \n",
        "# # Upload your kaggle.json file\n",
        "# from google.colab import files\n",
        "# print(\"Upload your kaggle.json file (from your Kaggle account settings)\")\n",
        "# uploaded = files.upload()\n",
        "# \n",
        "# # Configure kaggle credentials\n",
        "# !mkdir -p ~/.kaggle\n",
        "# !cp kaggle.json ~/.kaggle/\n",
        "# !chmod 600 ~/.kaggle/kaggle.json\n",
        "# \n",
        "# # Create data directory if it doesn't exist\n",
        "# !mkdir -p data/BUSI\n",
        "# \n",
        "# # Download BUSI dataset\n",
        "# !kaggle datasets download -d aryashah2k/breast-ultrasound-images-dataset\n",
        "# !unzip -q breast-ultrasound-images-dataset.zip -d data/BUSI\n",
        "# !rm breast-ultrasound-images-dataset.zip\n",
        "# \n",
        "# # Check dataset structure\n",
        "# !ls -la data/BUSI"
      ]
    },
    {
      "cell_type": "markdown",
      "id": "2a813db1",
      "metadata": {
        "id": "explore_section"
      },
      "source": [
        "## Explore Dataset\n",
        "\n",
        "Let's explore the dataset structure and visualize some sample images."
      ]
    },
    {
      "cell_type": "code",
      "execution_count": null,
      "id": "efb8d00d",
      "metadata": {
        "id": "explore_code"
      },
      "outputs": [],
      "source": [
        "import os\n",
        "import matplotlib.pyplot as plt\n",
        "from PIL import Image\n",
        "import numpy as np\n",
        "import random\n",
        "import torch\n",
        "\n",
        "# Check dataset statistics\n",
        "data_dir = 'data/BUSI'\n",
        "classes = [d for d in os.listdir(data_dir) if os.path.isdir(os.path.join(data_dir, d))]\n",
        "\n",
        "class_counts = {}\n",
        "for class_name in classes:\n",
        "    class_path = os.path.join(data_dir, class_name)\n",
        "    image_files = [f for f in os.listdir(class_path) if f.endswith(('.png', '.jpg', '.jpeg'))]\n",
        "    class_counts[class_name] = len(image_files)\n",
        "\n",
        "print(f\"Classes: {classes}\")\n",
        "print(f\"Images per class: {class_counts}\")\n",
        "\n",
        "# Display sample images from each class\n",
        "plt.figure(figsize=(15, 5*len(classes)))\n",
        "for i, class_name in enumerate(classes):\n",
        "    class_path = os.path.join(data_dir, class_name)\n",
        "    image_files = [f for f in os.listdir(class_path) if f.endswith(('.png', '.jpg', '.jpeg'))]\n",
        "    \n",
        "    # Show 3 random images from each class\n",
        "    if image_files: # Ensure there are images to sample from\n",
        "      sample_images = random.sample(image_files, min(3, len(image_files)))\n",
        "      for j, img_file in enumerate(sample_images):\n",
        "          img_path = os.path.join(class_path, img_file)\n",
        "          img = Image.open(img_path)\n",
        "          \n",
        "          plt.subplot(len(classes), 3, i*3 + j + 1)\n",
        "          plt.imshow(img, cmap='gray' if img.mode == 'L' else None)\n",
        "          plt.title(f\"{class_name}: {img_file}\")\n",
        "          plt.axis('off')\n",
        "                \n",
        "plt.tight_layout()\n",
        "plt.show()"
      ]
    },
    {
      "cell_type": "markdown",
      "id": "32ac7e39",
      "metadata": {
        "id": "training_section"
      },
      "source": [
        "## Model Training\n",
        "\n",
        "Train the three model architectures on the BUSI dataset."
      ]
    },
    {
      "cell_type": "code",
      "execution_count": null,
      "id": "f7a4c474",
      "metadata": {
        "id": "gpu_check"
      },
      "outputs": [],
      "source": [
        "# Check GPU availability\n",
        "device = torch.device('cuda' if torch.cuda.is_available() else 'cpu')\n",
        "print(f\"Using device: {device}\")\n",
        "\n",
        "if torch.cuda.is_available():\n",
        "    print(f\"GPU: {torch.cuda.get_device_name(0)}\")\n",
        "    !nvidia-smi"
      ]
    },
    {
      "cell_type": "code",
      "execution_count": null,
      "id": "44b2ccbc",
      "metadata": {
        "id": "train_densenet"
      },
      "outputs": [],
      "source": [
        "# Train DenseNet model\n",
        "!python main.py --config config.json --model densenet --epochs 20"
      ]
    },
    {
      "cell_type": "code",
      "execution_count": null,
      "id": "9141a7bb",
      "metadata": {
        "id": "train_resnet"
      },
      "outputs": [],
      "source": [
        "# Train ResNet model\n",
        "!python main.py --config config.json --model resnet --epochs 20"
      ]
    },
    {
      "cell_type": "code",
      "execution_count": null,
      "id": "8a5fbf37",
      "metadata": {
        "id": "train_efficientnet"
      },
      "outputs": [],
      "source": [
        "# Train EfficientNet model\n",
        "!python main.py --config config.json --model efficientnet --epochs 20"
      ]
    },
    {
      "cell_type": "markdown",
      "id": "763af698",
      "metadata": {
        "id": "evaluation_section"
      },
      "source": [
        "## Model Evaluation and Comparison\n",
        "\n",
        "Evaluate all three models and compare their performance."
      ]
    },
    {
      "cell_type": "code",
      "execution_count": null,
      "id": "d8749730",
      "metadata": {
        "id": "evaluate_models_code"
      },
      "outputs": [],
      "source": [
        "# Evaluate all models using the main script with evaluation flags\n",
        "!python main.py --config config.json --evaluate --models densenet resnet efficientnet"
      ]
    },
    {
      "cell_type": "markdown",
      "id": "af65e055",
      "metadata": {
        "id": "visualization_section"
      },
      "source": [
        "## Visualization with Grad-CAM\n",
        "\n",
        "Visualize model predictions using Grad-CAM for interpretability."
      ]
    },
    {
      "cell_type": "code",
      "execution_count": null,
      "id": "77d709e8",
      "metadata": {
        "id": "grad_cam_code"
      },
      "outputs": [],
      "source": [
        "# Visualize model predictions with Grad-CAM using the main script\n",
        "# Example for DenseNet, change --model to resnet or efficientnet for others\n",
        "!python main.py --config config.json --visualize --model densenet"
      ]
    },
    {
      "cell_type": "markdown",
      "id": "06808e9d",
      "metadata": {
        "id": "download_section"
      },
      "source": [
        "## Download Results\n",
        "\n",
        "Download the experimental results and trained models."
      ]
    },
    {
      "cell_type": "code",
      "execution_count": null,
      "id": "0d5d3b7c",
      "metadata": {
        "id": "download_results_code"
      },
      "outputs": [],
      "source": [
        "from google.colab import files\n",
        "\n",
        "# Zip results and models\n",
        "!zip -r results_and_models.zip experiments/ checkpoints/\n",
        "\n",
        "# Download zip file\n",
        "files.download('results_and_models.zip')"
      ]
    }
  ],
  "metadata": {
    "accelerator": "GPU",
    "colab": {
      "authorship_tag": "ABX9TyOdYfvdTZQIZ+E77L2SuEBL",
      "execution_state": "COMPLETED",
      "gpuType": "T4",
      "last_runtime_duration": 2653518,
      "provenance": []
    },
    "kernelspec": {
      "display_name": "Python 3",
      "language": "python",
      "name": "python3"
    },
    "language_info": {
      "codemirror_mode": {
        "name": "ipython",
        "version": 3
      },
      "file_extension": ".py",
      "mimetype": "text/x-python",
      "name": "python",
      "nbconvert_exporter": "python",
      "pygments_lexer": "ipython3",
      "version": "3.10.12"
    }
  },
  "nbformat": 4,
  "nbformat_minor": 5
}